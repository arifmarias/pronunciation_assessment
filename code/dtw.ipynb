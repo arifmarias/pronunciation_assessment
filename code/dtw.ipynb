{
 "cells": [
  {
   "cell_type": "code",
   "execution_count": 11,
   "metadata": {
    "collapsed": false
   },
   "outputs": [
    {
     "name": "stdout",
     "output_type": "stream",
     "text": [
      "['1_0_0_0_0_0_0_0.feat', '1_0_0_0_0_0_0_1.feat', '1_0_0_0_0_0_1_1.feat', '1_0_0_0_1_0_0_1.feat', '1_0_0_1_0_1_1_1.feat', '1_0_1_0_1_0_0_1.feat', '1_0_1_1_0_1_1_1.feat', '1_0_1_1_1_0_1_0.feat', '1_0_1_1_1_1_0_1.feat', '1_1_0_0_0_0_0_1.feat', '1_1_0_0_0_1_1_1.feat', '1_1_0_0_1_0_1_0.feat', '1_1_0_0_1_0_1_1.feat', '1_1_0_0_1_1_1_0.feat', '1_1_0_1_0_1_0_0.feat', '1_1_0_1_0_1_1_0.feat', '1_1_0_1_1_0_0_1.feat', '1_1_0_1_1_0_1_1.feat', '1_1_0_1_1_1_1_0.feat', '1_1_1_0_0_0_0_1.feat', '1_1_1_0_0_1_0_1.feat', '1_1_1_0_0_1_1_1.feat', '1_1_1_0_1_0_1_0.feat', '1_1_1_0_1_0_1_1.feat', '1_1_1_1_0_0_1_0.feat', '1_1_1_1_0_1_0_0.feat', '1_1_1_1_1_0_0_0.feat', '1_1_1_1_1_1_0_0.feat', '1_1_1_1_1_1_1_1.feat']\n"
     ]
    }
   ],
   "source": [
    "%matplotlib inline\n",
    "from dtw import dtw\n",
    "import numpy as np\n",
    "import matplotlib.pyplot as plt\n",
    "from scipy.spatial.distance import euclidean\n",
    "from fastdtw import fastdtw\n",
    "import datetime\n",
    "from os import listdir\n",
    "from os.path import isfile, join\n",
    "\n",
    "\n",
    "timenow = datetime.datetime.now().strftime(\"%I:%M %B %d\")\n",
    "\n",
    "child_dir = '../kaldi/egs/palak/feature/'\n",
    "teacher_dir = '../kaldi/egs/palak/feature/'\n",
    "\n",
    "child_records = [f for f in listdir(child_dir) if (isfile(join(child_dir, f)) and f.endswith('.feat'))]\n",
    "teacher_records = [f for f in listdir(teacher_dir) if (isfile(join(teacher_dir, f)) and f.endswith('.feat'))]\n",
    "rec = list(set(child_records).intersection(teacher_records)) #.sort()\n",
    "records = sorted(records)\n",
    "print (records)\n",
    "# err_stmt = \"Different number of features in recordings: #1 \" + str(np.shape(child)[1]) + \" and #2 \" + str(np.shape(teacher)[1])\n",
    "# assert (np.shape(child)[1] == np.shape(teacher)[1]), err_stmt\n",
    "# print(\"Recording #1: segments = \", np.shape(child)[0], \", features = \", np.shape(child)[1])\n",
    "# print(\"Recording #2: segments = \", np.shape(teacher)[0], \", features = \", np.shape(teacher)[1])\n"
   ]
  },
  {
   "cell_type": "code",
   "execution_count": 43,
   "metadata": {
    "collapsed": false
   },
   "outputs": [
    {
     "name": "stdout",
     "output_type": "stream",
     "text": [
      "(2, 39)\n"
     ]
    }
   ],
   "source": [
    "# cstat = np.loadtxt('../results/records_stats/child.txt')\n",
    "# tstat = np.loadtxt('../results/records_stats/teacher.txt')\n",
    "# print(np.shape(cstat))\n",
    "# for title in child_records:\n",
    "#     child_path = child_dir + title\n",
    "#     child = np.loadtxt(child_path)\n",
    "#     cnorm = (child - cstat[0])/cstat[1]\n",
    "#     np.savetxt(child_path + '.norm', cnorm)\n",
    "    \n",
    "# for title in teacher_records:\n",
    "#     teacher_path = teacher_dir + title\n",
    "#     teacher = np.loadtxt(teacher_path)\n",
    "#     tnorm = (teacher - tstat[0])/tstat[1]\n",
    "#     np.savetxt(teacher_path + '.norm', tnorm)\n"
   ]
  },
  {
   "cell_type": "code",
   "execution_count": 6,
   "metadata": {
    "collapsed": false
   },
   "outputs": [
    {
     "name": "stdout",
     "output_type": "stream",
     "text": [
      "None\n"
     ]
    }
   ],
   "source": [
    "# frecord = open('../results/record_stats.txt', 'w')\n",
    "\n",
    "# child_cumm = np.loadtxt(child_dir + child_records[0])\n",
    "# for title in child_records[1:]:\n",
    "#     child_path = child_dir + title\n",
    "#     child = np.loadtxt(child_path)\n",
    "#     child_cumm = np.vstack((child_cumm, child))\n",
    "\n",
    "# cmean = np.mean(child_cumm, axis=0)\n",
    "# cstd = np.std(child_cumm, axis=0)\n",
    "# a = np.zeros((2, 39))\n",
    "# a[0], a[1] = cmean, cstd\n",
    "# np.savetxt('../results/records_stats/child.txt', a)\n",
    " \n",
    "\n",
    "# t_cumm = np.loadtxt(teacher_dir + teacher_records[0])\n",
    "# for title in teacher_records[1:]:\n",
    "#     t_path = teacher_dir + title\n",
    "#     teacher = np.loadtxt(t_path)\n",
    "#     t_cumm = np.vstack((t_cumm, teacher))\n",
    "\n",
    "# tmean = np.mean(t_cumm, axis=0)\n",
    "# tstd = np.std(t_cumm, axis=0)\n",
    "# b = np.zeros((2, 39))\n",
    "# b[0], b[1] = tmean,tstd\n",
    "# np.savetxt('../results/records_stats/teacher.txt', b)\n",
    "# print(a)\n",
    "# print(b)\n",
    "    \n",
    "\n",
    "   \n"
   ]
  },
  {
   "cell_type": "code",
   "execution_count": null,
   "metadata": {
    "collapsed": false
   },
   "outputs": [],
   "source": [
    "# fastdtw\n",
    "# fstats = open('../results/stats.txt', 'a')\n",
    "\n",
    "for t in range(1, len(records)):\n",
    "#     title = 'Bunty_And_Bubbly_0_sent_' + str(t)\n",
    "    title = records[t]+ '-' + records[t+1]\n",
    "    child_path =  child_dir + records[t] #child_dir + str(t) + '.feat'\n",
    "    child = np.loadtxt(child_path)\n",
    "    teacher_path = teacher_dir + records[t+1] #+ str(t) + '.feat'\n",
    "    teacher = np.loadtxt(teacher_path)\n",
    "    avg_segment = (np.shape(child)[0] + np.shape(teacher)[0])/2\n",
    "\n",
    "#     featdist, path = fastdtw(child, teacher, dist=euclidean)\n",
    "#     c = np.array([i[0] for i in path ])\n",
    "#     t = np.array([i[1] for i in path ])\n",
    "    featdist, acc, cost, path = dtw(child, teacher, dist=euclidean)\n",
    "    featdist = featdist*avg_segment*2\n",
    "    c, t = path[0], path[1]\n",
    "\n",
    "    diff = np.absolute(c - t)\n",
    "    pathdist = euclidean(c, t)\n",
    "    print(title + \"(\" + str(avg_segment) + \") - feature dist: \" + str(featdist) + \", path dist: \" + str(pathdist) + \" max dev. \" + str(np.max(diff)))\n",
    "\n",
    "    # plot\n",
    "    plt.xlabel('teacher')\n",
    "    plt.ylabel('child')\n",
    "    plt.title(title)\n",
    "    plt.plot(t, c)\n",
    "    plt.savefig('../results/plots/yesno/' + title + '.png', bbox_inches='tight')\n",
    "    plt.clf()\n",
    "    # add timestamp to it\n",
    "#     fstats.write(title + \"\\t\" + str(avg_segment) + \"\\t\" + str(featdist) + \"\\t\" + str(pathdist) + 't' + str(np.max(diff)) + '\\n')\n",
    "    np.savetxt('../results/paths/yesno/' + title + '.path', path)\n",
    "\n",
    "# fstats.close()"
   ]
  },
  {
   "cell_type": "code",
   "execution_count": null,
   "metadata": {
    "collapsed": false,
    "scrolled": false
   },
   "outputs": [
    {
     "name": "stdout",
     "output_type": "stream",
     "text": [
      "29.5611674966 112215.162371\n"
     ]
    },
    {
     "data": {
      "text/plain": [
       "[<matplotlib.lines.Line2D at 0x10678a048>]"
      ]
     },
     "execution_count": 10,
     "metadata": {},
     "output_type": "execute_result"
    }
   ],
   "source": [
    "# c,t = path[0], path[1]\n",
    "# pathdist = euclidean(c, t)\n",
    "\n",
    "# print (dist,pathdist )\n",
    "\n",
    "# plt.xlabel('teacher')\n",
    "# plt.ylabel('child')\n",
    "# plt.title('bb')\n",
    "# plt.imshow(acc.T, origin='lower', cmap='gray', interpolation='nearest')\n",
    "# plt.plot(t, c, 'w')"
   ]
  },
  {
   "cell_type": "code",
   "execution_count": null,
   "metadata": {
    "collapsed": true
   },
   "outputs": [],
   "source": []
  }
 ],
 "metadata": {
  "kernelspec": {
   "display_name": "Python 3",
   "language": "python",
   "name": "python3"
  },
  "language_info": {
   "codemirror_mode": {
    "name": "ipython",
    "version": 3
   },
   "file_extension": ".py",
   "mimetype": "text/x-python",
   "name": "python",
   "nbconvert_exporter": "python",
   "pygments_lexer": "ipython3",
   "version": "3.4.2"
  }
 },
 "nbformat": 4,
 "nbformat_minor": 0
}
